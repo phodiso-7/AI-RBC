{
 "cells": [
  {
   "cell_type": "markdown",
   "id": "15785225",
   "metadata": {},
   "source": [
    "# Q1"
   ]
  },
  {
   "cell_type": "code",
   "execution_count": 2,
   "id": "96388274",
   "metadata": {},
   "outputs": [
    {
     "name": "stdout",
     "output_type": "stream",
     "text": [
      "Enter FEN string: 8/8/8/8/7q/p2p1p1k/P2P1P2/Rn2K2R w KQ - 23 30\n",
      "0000\n",
      "a1b1\n",
      "e1d1\n",
      "e1e2\n",
      "e1f1\n",
      "e1g1\n",
      "h1f1\n",
      "h1g1\n",
      "h1h2\n",
      "h1h3\n"
     ]
    }
   ],
   "source": [
    "import chess\n",
    "import reconchess\n",
    "from reconchess.utilities import without_opponent_pieces, is_illegal_castle\n",
    "\n",
    "def generate_all_possible_moves(fen):\n",
    "    board = chess.Board(fen)\n",
    "    possible_moves = set()\n",
    "\n",
    "    # 1. Add all pseudolegal moves\n",
    "    for move in board.pseudo_legal_moves:\n",
    "        possible_moves.add(move.uci())\n",
    "\n",
    "    # 2. Add the null move\n",
    "    possible_moves.add('0000')\n",
    "\n",
    "    # 3. Add special castling moves permitted in RBC\n",
    "    castle_board = without_opponent_pieces(board)\n",
    "    for move in castle_board.generate_castling_moves():\n",
    "        if not is_illegal_castle(board, move):\n",
    "            possible_moves.add(move.uci())\n",
    "\n",
    "    # 4. Output sorted list of moves\n",
    "    for move in sorted(possible_moves):\n",
    "        print(move)\n",
    "\n",
    "# Sample Input\n",
    "fen_input = input(\"Enter FEN string: \").strip()\n",
    "generate_all_possible_moves(fen_input)\n"
   ]
  },
  {
   "cell_type": "markdown",
   "id": "5d7fb22f",
   "metadata": {},
   "source": [
    "# Q2"
   ]
  },
  {
   "cell_type": "code",
   "execution_count": 4,
   "id": "f0be88b3",
   "metadata": {},
   "outputs": [
    {
     "name": "stdout",
     "output_type": "stream",
     "text": [
      "Enter FEN string: k7/p2p1p2/P2P1P2/8/8/8/8/7K b - - 23 30\n",
      "1k6/p2p1p2/P2P1P2/8/8/8/8/7K w - - 24 31\n",
      "8/pk1p1p2/P2P1P2/8/8/8/8/7K w - - 24 31\n",
      "k7/p2p1p2/P2P1P2/8/8/8/8/7K w - - 24 31\n"
     ]
    }
   ],
   "source": [
    "\n",
    "def generate_next_fens(fen):\n",
    "    board = chess.Board(fen)\n",
    "    next_fens = set()\n",
    "\n",
    "    # 1. Pseudolegal moves\n",
    "    for move in board.pseudo_legal_moves:\n",
    "        new_board = board.copy()\n",
    "        new_board.push(move)\n",
    "        next_fens.add(new_board.fen())\n",
    "\n",
    "    # 2. Null move (0000)\n",
    "    new_board = board.copy()\n",
    "    new_board.push(chess.Move.null())\n",
    "    next_fens.add(new_board.fen())\n",
    "\n",
    "    # 3. Special castling in RBC\n",
    "    castle_board = without_opponent_pieces(board)\n",
    "    for move in castle_board.generate_castling_moves():\n",
    "        if not is_illegal_castle(board, move):\n",
    "            new_board = board.copy()\n",
    "            new_board.push(move)\n",
    "            next_fens.add(new_board.fen())\n",
    "\n",
    "    # Output sorted FENs\n",
    "    for f in sorted(next_fens):\n",
    "        print(f)\n",
    "\n",
    "# Sample input\n",
    "fen_input = input(\"Enter FEN string: \").strip()\n",
    "generate_next_fens(fen_input)\n"
   ]
  },
  {
   "cell_type": "markdown",
   "id": "705ceca9",
   "metadata": {},
   "source": [
    "# Q3"
   ]
  },
  {
   "cell_type": "code",
   "execution_count": 6,
   "id": "ee82c429",
   "metadata": {},
   "outputs": [
    {
     "name": "stdout",
     "output_type": "stream",
     "text": [
      "Enter FEN string: r1bqk2r/pppp1ppp/2n2n2/4p3/1b2P3/1P3N2/PBPP1PPP/RN1QKB1R w KQkq - 0 5\n",
      "Enter capture square (e.g., d6): e5\n",
      "r1bqk2r/pppp1ppp/2n2n2/4B3/1b2P3/1P3N2/P1PP1PPP/RN1QKB1R b KQkq - 0 5\n",
      "r1bqk2r/pppp1ppp/2n2n2/4N3/1b2P3/1P6/PBPP1PPP/RN1QKB1R b KQkq - 0 5\n"
     ]
    }
   ],
   "source": [
    "import chess\n",
    "from reconchess.utilities import without_opponent_pieces, is_illegal_castle\n",
    "\n",
    "def generate_capture_resulting_fens(fen, capture_square_str):\n",
    "    board = chess.Board(fen)\n",
    "    target_square = chess.SQUARE_NAMES.index(capture_square_str)\n",
    "    next_fens = set()\n",
    "\n",
    "    # 1. Check all pseudolegal moves that end on the capture square\n",
    "    for move in board.pseudo_legal_moves:\n",
    "        if move.to_square == target_square and board.is_capture(move):\n",
    "            new_board = board.copy()\n",
    "            new_board.push(move)\n",
    "            next_fens.add(new_board.fen())\n",
    "\n",
    "    # 2. Special RBC castling (very rare, but handle it safely)\n",
    "    castle_board = without_opponent_pieces(board)\n",
    "    for move in castle_board.generate_castling_moves():\n",
    "        if not is_illegal_castle(board, move):\n",
    "            if move.to_square == target_square and board.is_capture(move):\n",
    "                new_board = board.copy()\n",
    "                new_board.push(move)\n",
    "                next_fens.add(new_board.fen())\n",
    "\n",
    "    # 3. Return sorted list\n",
    "    for f in sorted(next_fens):\n",
    "        print(f)\n",
    "\n",
    "# Sample Input\n",
    "fen_input = input(\"Enter FEN string: \").strip()\n",
    "capture_square_input = input(\"Enter capture square (e.g., d6): \").strip().lower()\n",
    "generate_capture_resulting_fens(fen_input, capture_square_input)\n"
   ]
  },
  {
   "cell_type": "markdown",
   "id": "f94b6f9c",
   "metadata": {},
   "source": [
    "# Q4"
   ]
  },
  {
   "cell_type": "code",
   "execution_count": 8,
   "id": "6def03d6",
   "metadata": {},
   "outputs": [
    {
     "name": "stdout",
     "output_type": "stream",
     "text": [
      "3\n",
      "1k6/1ppn4/8/8/8/1P1P4/PN3P2/2K5 w - - 0 32\n",
      "1k6/1ppnP3/8/8/8/1P1P4/PN3P2/2K5 w - - 0 32\n",
      "1k6/1ppn1p2/8/8/8/1P1P4/PN3P2/2K5 w - - 0 32\n",
      "c8:?;d8:?;e8:?;c7:p;d7:n;e7:?;c6:?;d6:?;e6:?\n",
      "1k6/1ppn1p2/8/8/8/1P1P4/PN3P2/2K5 w - - 0 32\n",
      "1k6/1ppn4/8/8/8/1P1P4/PN3P2/2K5 w - - 0 32\n",
      "1k6/1ppnP3/8/8/8/1P1P4/PN3P2/2K5 w - - 0 32\n"
     ]
    }
   ],
   "source": [
    "import chess\n",
    "\n",
    "def parse_window(window_str):\n",
    "    \"\"\"\n",
    "    Parses the window description into a dictionary:\n",
    "    {'c8': '?', 'd8': '?', ..., 'd7': 'n'}\n",
    "    \"\"\"\n",
    "    window = {}\n",
    "    entries = window_str.strip().split(';')\n",
    "    for entry in entries:\n",
    "        if entry:\n",
    "            square, piece = entry.split(':')\n",
    "            window[square] = piece\n",
    "    return window\n",
    "\n",
    "def fen_matches_window(fen, window):\n",
    "    \"\"\"\n",
    "    Checks if the given FEN matches the window observation.\n",
    "    '?' means the square must be empty.\n",
    "    Any other piece letter must match exactly.\n",
    "    \"\"\"\n",
    "    board = chess.Board(fen)\n",
    "    for square_str, expected_piece in window.items():\n",
    "        square = chess.parse_square(square_str)\n",
    "        piece = board.piece_at(square)\n",
    "\n",
    "        if expected_piece == '?':\n",
    "            if piece is not None:\n",
    "                return False  # Expected empty square\n",
    "        else:\n",
    "            if piece is None or piece.symbol() != expected_piece:\n",
    "                return False  # Piece mismatch\n",
    "    return True\n",
    "\n",
    "def filter_fens_by_window(fens, window_str):\n",
    "    window = parse_window(window_str)\n",
    "    consistent_fens = [fen for fen in fens if fen_matches_window(fen, window)]\n",
    "    for fen in sorted(consistent_fens):\n",
    "        print(fen)\n",
    "\n",
    "N = int(input())\n",
    "fens = [input().strip() for _ in range(N)]\n",
    "window_description = input().strip()\n",
    "\n",
    "filter_fens_by_window(fens, window_description)\n"
   ]
  }
 ],
 "metadata": {
  "kernelspec": {
   "display_name": "Python (myenv)",
   "language": "python",
   "name": "myenv"
  },
  "language_info": {
   "codemirror_mode": {
    "name": "ipython",
    "version": 3
   },
   "file_extension": ".py",
   "mimetype": "text/x-python",
   "name": "python",
   "nbconvert_exporter": "python",
   "pygments_lexer": "ipython3",
   "version": "3.12.3"
  }
 },
 "nbformat": 4,
 "nbformat_minor": 5
}
