{
 "cells": [
  {
   "cell_type": "markdown",
   "id": "c14f51fd",
   "metadata": {},
   "source": [
    "# State"
   ]
  },
  {
   "cell_type": "code",
   "execution_count": 1,
   "id": "e590eb51",
   "metadata": {},
   "outputs": [
    {
     "ename": "ModuleNotFoundError",
     "evalue": "No module named 'chess'",
     "output_type": "error",
     "traceback": [
      "\u001b[31m---------------------------------------------------------------------------\u001b[39m",
      "\u001b[31mModuleNotFoundError\u001b[39m                       Traceback (most recent call last)",
      "\u001b[36mCell\u001b[39m\u001b[36m \u001b[39m\u001b[32mIn[1]\u001b[39m\u001b[32m, line 1\u001b[39m\n\u001b[32m----> \u001b[39m\u001b[32m1\u001b[39m \u001b[38;5;28;01mimport\u001b[39;00m\u001b[38;5;250m \u001b[39m\u001b[34;01mchess\u001b[39;00m\n\u001b[32m      3\u001b[39m \u001b[38;5;28;01mdef\u001b[39;00m\u001b[38;5;250m \u001b[39m\u001b[34mprint_board_from_fen\u001b[39m(fen):\n\u001b[32m      4\u001b[39m     board = chess.Board(fen)\n",
      "\u001b[31mModuleNotFoundError\u001b[39m: No module named 'chess'"
     ]
    }
   ],
   "source": [
    "import chess\n",
    "\n",
    "def print_board_from_fen(fen):\n",
    "    board = chess.Board(fen)\n",
    "    for rank in range(8, 0, -1):  # 8 to 1\n",
    "        row = \"\"\n",
    "        for file in range(8):  # a to h\n",
    "            square = chess.square(file, rank - 1)\n",
    "            piece = board.piece_at(square)\n",
    "            row += (piece.symbol() if piece else \".\") + \" \"\n",
    "        print(row.strip())\n",
    "\n",
    "if __name__ == \"__main__\":\n",
    "    fen_input = input(\"Enter FEN string: \")\n",
    "    print_board_from_fen(fen_input)\n"
   ]
  },
  {
   "cell_type": "markdown",
   "id": "7f13b558",
   "metadata": {},
   "source": [
    "# Execute Move"
   ]
  },
  {
   "cell_type": "code",
   "execution_count": 6,
   "id": "d8c92031",
   "metadata": {},
   "outputs": [
    {
     "name": "stdout",
     "output_type": "stream",
     "text": [
      "Enter FEN string: 8/8/8/2k5/4K3/8/8/8 w - - 4 45\n",
      "Enter move (e.g., e2e4): e4e5\n",
      "8/8/8/2k1K3/8/8/8/8 b - - 5 45\n"
     ]
    }
   ],
   "source": [
    "\n",
    "\n",
    "def execute_move(fen, move_str):\n",
    "    board = chess.Board(fen)\n",
    "    move = chess.Move.from_uci(move_str)\n",
    "    \n",
    "    if move in board.legal_moves:\n",
    "        board.push(move)\n",
    "        print(board.fen())\n",
    "    else:\n",
    "        print(\"Illegal move\")\n",
    "\n",
    "if __name__ == \"__main__\":\n",
    "    fen_input = input(\"Enter FEN string: \").strip()\n",
    "    move_input = input(\"Enter move : \").strip()\n",
    "    execute_move(fen_input, move_input)\n"
   ]
  }
 ],
 "metadata": {
  "kernelspec": {
   "display_name": "Python 3",
   "language": "python",
   "name": "python3"
  },
  "language_info": {
   "codemirror_mode": {
    "name": "ipython",
    "version": 3
   },
   "file_extension": ".py",
   "mimetype": "text/x-python",
   "name": "python",
   "nbconvert_exporter": "python",
   "pygments_lexer": "ipython3",
   "version": "3.13.3"
  }
 },
 "nbformat": 4,
 "nbformat_minor": 5
}
