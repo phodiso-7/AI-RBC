{
 "cells": [
  {
   "cell_type": "markdown",
   "id": "c14f51fd",
   "metadata": {},
   "source": [
    "# State"
   ]
  },
  {
   "cell_type": "code",
   "execution_count": 1,
   "id": "e590eb51",
   "metadata": {},
   "outputs": [
    {
     "name": "stdout",
     "output_type": "stream",
     "text": [
      "Enter FEN string: r1bqkb1r/pppp1Qpp/2n2n2/4p3/2B1P3/8/PPPP1PPP/RNB1K1NR b KQkq - 0 4\n",
      "r . b q k b . r\n",
      "p p p p . Q p p\n",
      ". . n . . n . .\n",
      ". . . . p . . .\n",
      ". . B . P . . .\n",
      ". . . . . . . .\n",
      "P P P P . P P P\n",
      "R N B . K . N R\n"
     ]
    }
   ],
   "source": [
    "import chess\n",
    "\n",
    "def print_board_from_fen(fen):\n",
    "    board = chess.Board(fen)\n",
    "    for rank in range(8, 0, -1):  # 8 to 1\n",
    "        row = \"\"\n",
    "        for file in range(8):  # a to h\n",
    "            square = chess.square(file, rank - 1)\n",
    "            piece = board.piece_at(square)\n",
    "            row += (piece.symbol() if piece else \".\") + \" \"\n",
    "        print(row.strip())\n",
    "\n",
    "if __name__ == \"__main__\":\n",
    "    fen_input = input(\"Enter FEN string: \")\n",
    "    print_board_from_fen(fen_input)\n"
   ]
  },
  {
   "cell_type": "markdown",
   "id": "7f13b558",
   "metadata": {},
   "source": [
    "# Execute Move"
   ]
  },
  {
   "cell_type": "code",
   "execution_count": 6,
   "id": "d8c92031",
   "metadata": {},
   "outputs": [
    {
     "name": "stdout",
     "output_type": "stream",
     "text": [
      "Enter FEN string: 8/8/8/2k5/4K3/8/8/8 w - - 4 45\n",
      "Enter move (e.g., e2e4): e4e5\n",
      "8/8/8/2k1K3/8/8/8/8 b - - 5 45\n"
     ]
    }
   ],
   "source": [
    "\n",
    "\n",
    "def execute_move(fen, move_str):\n",
    "    board = chess.Board(fen)\n",
    "    move = chess.Move.from_uci(move_str)\n",
    "    \n",
    "    if move in board.legal_moves:\n",
    "        board.push(move)\n",
    "        print(board.fen())\n",
    "    else:\n",
    "        print(\"Illegal move\")\n",
    "\n",
    "if __name__ == \"__main__\":\n",
    "    fen_input = input(\"Enter FEN string: \").strip()\n",
    "    move_input = input(\"Enter move : \").strip()\n",
    "    execute_move(fen_input, move_input)\n"
   ]
  }
 ],
 "metadata": {
  "kernelspec": {
   "display_name": "Python (myenv)",
   "language": "python",
   "name": "myenv"
  },
  "language_info": {
   "codemirror_mode": {
    "name": "ipython",
    "version": 3
   },
   "file_extension": ".py",
   "mimetype": "text/x-python",
   "name": "python",
   "nbconvert_exporter": "python",
   "pygments_lexer": "ipython3",
   "version": "3.12.3"
  }
 },
 "nbformat": 4,
 "nbformat_minor": 5
}
