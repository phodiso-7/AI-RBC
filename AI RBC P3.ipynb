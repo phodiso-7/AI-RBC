{
 "cells": [
  {
   "cell_type": "markdown",
   "id": "9a860cad",
   "metadata": {},
   "source": [
    "# Q1"
   ]
  },
  {
   "cell_type": "code",
   "execution_count": 3,
   "id": "fa72bfc4",
   "metadata": {
    "scrolled": false
   },
   "outputs": [
    {
     "name": "stdout",
     "output_type": "stream",
     "text": [
      "rn3rk1/pbppq1pp/1p2pb2/4N2Q/3PN3/3B4/PPP2PPP/R3K2R w KQ - 7 11\n",
      "h5h7\n"
     ]
    }
   ],
   "source": [
    "import chess\n",
    "import chess.engine\n",
    "\n",
    "def get_king_capture_move(board):\n",
    "    \"\"\"\n",
    "    Checks if a move can capture the opponent's king.\n",
    "    Returns the capturing move if found, otherwise None.\n",
    "    \"\"\"\n",
    "    for move in board.pseudo_legal_moves:\n",
    "        if board.is_capture(move):\n",
    "            captured_piece_square = move.to_square\n",
    "            captured_piece = board.piece_at(captured_piece_square)\n",
    "            if captured_piece and captured_piece.piece_type == chess.KING:\n",
    "                return move\n",
    "    return None\n",
    "\n",
    "def choose_move(fen):\n",
    "    board = chess.Board(fen)\n",
    "\n",
    "    # 1. Try to capture the opponent's king\n",
    "    capture_move = get_king_capture_move(board)\n",
    "    if capture_move:\n",
    "        return capture_move.uci()\n",
    "\n",
    "    # 2. Ask Stockfish to suggest a move (within 0.5 seconds)\n",
    "    engine = chess.engine.SimpleEngine.popen_uci('./stockfish', setpgrp=True)\n",
    "\n",
    "    result = engine.play(board, chess.engine.Limit(time=0.5))\n",
    "    move = result.move\n",
    "\n",
    "    engine.quit()\n",
    "    return move.uci()\n",
    "\n",
    "# === Input ===\n",
    "fen_input = input().strip()\n",
    "selected_move = choose_move(fen_input)\n",
    "print(selected_move)\n"
   ]
  },
  {
   "cell_type": "markdown",
   "id": "86f21d06",
   "metadata": {},
   "source": [
    "# Q2"
   ]
  },
  {
   "cell_type": "code",
   "execution_count": 7,
   "id": "bb209ba6",
   "metadata": {},
   "outputs": [
    {
     "name": "stdout",
     "output_type": "stream",
     "text": [
      "4\n",
      "8/3k2pn/7P/8/8/8/4K3/8 w - - 0 45\n",
      "8/3k2pp/7P/8/8/8/4K3/8 w - - 0 45\n",
      "8/4k1p1/7P/8/8/8/4K3/8 w - - 0 45\n",
      "8/4k1p1/7P/7b/8/8/4K3/8 w - - 0 45\n",
      "h6g7\n"
     ]
    }
   ],
   "source": [
    "import chess\n",
    "import chess.engine\n",
    "\n",
    "def get_king_capture_move(board):\n",
    "    for move in board.pseudo_legal_moves:\n",
    "        if board.is_capture(move):\n",
    "            captured_square = move.to_square\n",
    "            captured_piece = board.piece_at(captured_square)\n",
    "            if captured_piece and captured_piece.piece_type == chess.KING:\n",
    "                return move\n",
    "    return None\n",
    "\n",
    "def choose_move(fen, engine):\n",
    "    board = chess.Board(fen)\n",
    "\n",
    "    # Try to capture the opponent's king\n",
    "    capture_move = get_king_capture_move(board)\n",
    "    if capture_move:\n",
    "        return capture_move.uci()\n",
    "\n",
    "    # Otherwise ask Stockfish\n",
    "    result = engine.play(board, chess.engine.Limit(time=0.5))\n",
    "    return result.move.uci()\n",
    "\n",
    "def main():\n",
    "    N = int(input())\n",
    "    fens = [input().strip() for _ in range(N)]\n",
    "\n",
    "    move_counts = {}\n",
    "\n",
    "    # Start the engine once\n",
    "    engine = chess.engine.SimpleEngine.popen_uci('./stockfish', setpgrp=True)\n",
    "\n",
    "    for fen in fens:\n",
    "        move = choose_move(fen, engine)\n",
    "        if move in move_counts:\n",
    "            move_counts[move] += 1\n",
    "        else:\n",
    "            move_counts[move] = 1\n",
    "\n",
    "    engine.quit()\n",
    "\n",
    "    # Find most common move; break ties alphabetically\n",
    "    most_common_move = None\n",
    "    highest_count = 0\n",
    "\n",
    "    for move in sorted(move_counts):  # Alphabetical tie-breaker\n",
    "        count = move_counts[move]\n",
    "        if count > highest_count:\n",
    "            highest_count = count\n",
    "            most_common_move = move\n",
    "\n",
    "    print(most_common_move)\n",
    "\n",
    "if __name__ == '__main__':\n",
    "    main()\n"
   ]
  }
 ],
 "metadata": {
  "kernelspec": {
   "display_name": "Python (myenv)",
   "language": "python",
   "name": "myenv"
  },
  "language_info": {
   "codemirror_mode": {
    "name": "ipython",
    "version": 3
   },
   "file_extension": ".py",
   "mimetype": "text/x-python",
   "name": "python",
   "nbconvert_exporter": "python",
   "pygments_lexer": "ipython3",
   "version": "3.12.3"
  }
 },
 "nbformat": 4,
 "nbformat_minor": 5
}
